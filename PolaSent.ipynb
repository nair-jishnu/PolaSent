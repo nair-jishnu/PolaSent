{
  "nbformat": 4,
  "nbformat_minor": 0,
  "metadata": {
    "colab": {
      "name": "PolaSent.ipynb",
      "version": "0.3.2",
      "provenance": [],
      "include_colab_link": true
    },
    "kernelspec": {
      "name": "python3",
      "display_name": "Python 3"
    }
  },
  "cells": [
    {
      "cell_type": "markdown",
      "metadata": {
        "id": "view-in-github",
        "colab_type": "text"
      },
      "source": [
        "<a href=\"https://colab.research.google.com/github/nair-jishnu/Twitter-Sentiment-Analysis/blob/master/PolaSent.ipynb\" target=\"_parent\"><img src=\"https://colab.research.google.com/assets/colab-badge.svg\" alt=\"Open In Colab\"/></a>"
      ]
    },
    {
      "metadata": {
        "id": "Z4oc5c_-VcxN",
        "colab_type": "code",
        "colab": {}
      },
      "cell_type": "code",
      "source": [
        "import tweepy           # To consume Twitter's API\n",
        "import pandas as pd     # To handle data\n",
        "import numpy as np      # For number computing\n",
        "\n",
        "# For plotting and visualization:\n",
        "from IPython.display import display\n",
        "import matplotlib.pyplot as plt\n",
        "import seaborn as sns\n",
        "%matplotlib inline"
      ],
      "execution_count": 0,
      "outputs": []
    },
    {
      "metadata": {
        "id": "0BJGzuf6VhJV",
        "colab_type": "code",
        "colab": {}
      },
      "cell_type": "code",
      "source": [
        "consumer_key = ''\n",
        "consumer_secret = ''\n",
        "access_token = ''\n",
        "access_secret = ''"
      ],
      "execution_count": 0,
      "outputs": []
    },
    {
      "metadata": {
        "id": "UqV8k6tSVyyd",
        "colab_type": "code",
        "colab": {}
      },
      "cell_type": "code",
      "source": [
        "    # This will allow us to use the keys as variables\n",
        "\n",
        "# API's setup:\n",
        "def twitter_setup():\n",
        "    \n",
        "    auth = tweepy.OAuthHandler(consumer_key, consumer_secret)\n",
        "    auth.set_access_token(access_token, access_secret)\n",
        "\n",
        "    # Return API with authentication:\n",
        "    api = tweepy.API(auth)\n",
        "    return api"
      ],
      "execution_count": 0,
      "outputs": []
    },
    {
      "metadata": {
        "id": "fETMNLAJWAjE",
        "colab_type": "code",
        "colab": {
          "base_uri": "https://localhost:8080/",
          "height": 298
        },
        "outputId": "dc91698b-73b3-4ed3-d09c-6b177103412c"
      },
      "cell_type": "code",
      "source": [
        "extractor = twitter_setup()\n",
        "\n",
        "# We create a tweet list as follows:\n",
        "tweets = extractor.user_timeline(screen_name=\"icyphox\", count=100)\n",
        "print(\"Number of tweets extracted: {}.\\n\".format(len(tweets)))\n",
        "\n",
        "# We print the most recent 5 tweets:\n",
        "print(\"5 recent tweets:\\n\")\n",
        "for tweet in tweets[:5]:\n",
        "    print(tweet.text)\n",
        "    print()"
      ],
      "execution_count": 5,
      "outputs": [
        {
          "output_type": "stream",
          "text": [
            "Number of tweets extracted: 100.\n",
            "\n",
            "5 recent tweets:\n",
            "\n",
            "@mustefaJ @firasd @garrytan looks like it's the latter\n",
            "https://t.co/docGBqn8zC\n",
            "\n",
            "RT @alexjackhughes: @icyphox @firasd @garrytan Nope - David from Hackernoon got in touch to say they were moving Hackernoon off Medium. If…\n",
            "\n",
            "@alexjackhughes @firasd @garrytan ah interesting. that's great then. \n",
            "perhaps not everyone got that email (?)\n",
            "\n",
            "@alexjackhughes @firasd @garrytan i'm guessing that's the email from Medium?\n",
            "\n",
            "@firasd @garrytan this makes a ton of sense. HackerNoon can’t force its contributors to migrate along with them.\n",
            "\n"
          ],
          "name": "stdout"
        }
      ]
    },
    {
      "metadata": {
        "id": "ZuhCGqIfWUUn",
        "colab_type": "code",
        "colab": {
          "base_uri": "https://localhost:8080/",
          "height": 343
        },
        "outputId": "675b963d-b86b-4b0f-f87e-77c7b2f5a4a6"
      },
      "cell_type": "code",
      "source": [
        "data = pd.DataFrame(data=[tweet.text for tweet in tweets], columns=['Tweets'])\n",
        "\n",
        "# We display the first 10 elements of the dataframe:\n",
        "display(data.head(10))"
      ],
      "execution_count": 6,
      "outputs": [
        {
          "output_type": "display_data",
          "data": {
            "text/html": [
              "<div>\n",
              "<style scoped>\n",
              "    .dataframe tbody tr th:only-of-type {\n",
              "        vertical-align: middle;\n",
              "    }\n",
              "\n",
              "    .dataframe tbody tr th {\n",
              "        vertical-align: top;\n",
              "    }\n",
              "\n",
              "    .dataframe thead th {\n",
              "        text-align: right;\n",
              "    }\n",
              "</style>\n",
              "<table border=\"1\" class=\"dataframe\">\n",
              "  <thead>\n",
              "    <tr style=\"text-align: right;\">\n",
              "      <th></th>\n",
              "      <th>Tweets</th>\n",
              "    </tr>\n",
              "  </thead>\n",
              "  <tbody>\n",
              "    <tr>\n",
              "      <th>0</th>\n",
              "      <td>@mustefaJ @firasd @garrytan looks like it's th...</td>\n",
              "    </tr>\n",
              "    <tr>\n",
              "      <th>1</th>\n",
              "      <td>RT @alexjackhughes: @icyphox @firasd @garrytan...</td>\n",
              "    </tr>\n",
              "    <tr>\n",
              "      <th>2</th>\n",
              "      <td>@alexjackhughes @firasd @garrytan ah interesti...</td>\n",
              "    </tr>\n",
              "    <tr>\n",
              "      <th>3</th>\n",
              "      <td>@alexjackhughes @firasd @garrytan i'm guessing...</td>\n",
              "    </tr>\n",
              "    <tr>\n",
              "      <th>4</th>\n",
              "      <td>@firasd @garrytan this makes a ton of sense. H...</td>\n",
              "    </tr>\n",
              "    <tr>\n",
              "      <th>5</th>\n",
              "      <td>RT @sophiebits: &amp;gt; aGkgdHdpd…\\n\\nme: I have ...</td>\n",
              "    </tr>\n",
              "    <tr>\n",
              "      <th>6</th>\n",
              "      <td>RT @LiveOverflow: Still thinking smart contrac...</td>\n",
              "    </tr>\n",
              "    <tr>\n",
              "      <th>7</th>\n",
              "      <td>RT @_ayoubfathi_: One liner to fetch all URLs ...</td>\n",
              "    </tr>\n",
              "    <tr>\n",
              "      <th>8</th>\n",
              "      <td>@N3rdyP3pp3r @unicode i recall reading somewhe...</td>\n",
              "    </tr>\n",
              "    <tr>\n",
              "      <th>9</th>\n",
              "      <td>RT @hopefulIe: There’s literally 5 movies on w...</td>\n",
              "    </tr>\n",
              "  </tbody>\n",
              "</table>\n",
              "</div>"
            ],
            "text/plain": [
              "                                              Tweets\n",
              "0  @mustefaJ @firasd @garrytan looks like it's th...\n",
              "1  RT @alexjackhughes: @icyphox @firasd @garrytan...\n",
              "2  @alexjackhughes @firasd @garrytan ah interesti...\n",
              "3  @alexjackhughes @firasd @garrytan i'm guessing...\n",
              "4  @firasd @garrytan this makes a ton of sense. H...\n",
              "5  RT @sophiebits: &gt; aGkgdHdpd…\\n\\nme: I have ...\n",
              "6  RT @LiveOverflow: Still thinking smart contrac...\n",
              "7  RT @_ayoubfathi_: One liner to fetch all URLs ...\n",
              "8  @N3rdyP3pp3r @unicode i recall reading somewhe...\n",
              "9  RT @hopefulIe: There’s literally 5 movies on w..."
            ]
          },
          "metadata": {
            "tags": []
          }
        }
      ]
    },
    {
      "metadata": {
        "id": "mi_6mtb5WYU4",
        "colab_type": "code",
        "colab": {
          "base_uri": "https://localhost:8080/",
          "height": 54
        },
        "outputId": "5b68b8f4-0577-4960-dae7-8cd4ba8297ff"
      },
      "cell_type": "code",
      "source": [
        "print(dir(tweets[0]))"
      ],
      "execution_count": 7,
      "outputs": [
        {
          "output_type": "stream",
          "text": [
            "['__class__', '__delattr__', '__dict__', '__dir__', '__doc__', '__eq__', '__format__', '__ge__', '__getattribute__', '__getstate__', '__gt__', '__hash__', '__init__', '__init_subclass__', '__le__', '__lt__', '__module__', '__ne__', '__new__', '__reduce__', '__reduce_ex__', '__repr__', '__setattr__', '__sizeof__', '__str__', '__subclasshook__', '__weakref__', '_api', '_json', 'author', 'contributors', 'coordinates', 'created_at', 'destroy', 'entities', 'favorite', 'favorite_count', 'favorited', 'geo', 'id', 'id_str', 'in_reply_to_screen_name', 'in_reply_to_status_id', 'in_reply_to_status_id_str', 'in_reply_to_user_id', 'in_reply_to_user_id_str', 'is_quote_status', 'lang', 'parse', 'parse_list', 'place', 'possibly_sensitive', 'quoted_status', 'quoted_status_id', 'quoted_status_id_str', 'retweet', 'retweet_count', 'retweeted', 'retweets', 'source', 'source_url', 'text', 'truncated', 'user']\n"
          ],
          "name": "stdout"
        }
      ]
    },
    {
      "metadata": {
        "id": "2hNtlLz6WbJ3",
        "colab_type": "code",
        "colab": {
          "base_uri": "https://localhost:8080/",
          "height": 178
        },
        "outputId": "e6d2a00b-818e-411d-97a8-13cafaa86794"
      },
      "cell_type": "code",
      "source": [
        "print(tweets[0].id)\n",
        "print(tweets[0].created_at)\n",
        "print(tweets[0].source)\n",
        "print(tweets[0].favorite_count)\n",
        "print(tweets[0].retweet_count)\n",
        "print(tweets[0].geo)\n",
        "print(tweets[0].coordinates)\n",
        "print(tweets[0].entities)"
      ],
      "execution_count": 8,
      "outputs": [
        {
          "output_type": "stream",
          "text": [
            "1105434573633015808\n",
            "2019-03-12 11:45:14\n",
            "Twitter for Android\n",
            "2\n",
            "0\n",
            "None\n",
            "None\n",
            "{'hashtags': [], 'symbols': [], 'user_mentions': [{'screen_name': 'mustefaJ', 'name': 'Mustefa ْجوشَن', 'id': 194357577, 'id_str': '194357577', 'indices': [0, 9]}, {'screen_name': 'firasd', 'name': 'Firas Durri', 'id': 6299142, 'id_str': '6299142', 'indices': [10, 17]}, {'screen_name': 'garrytan', 'name': 'Garry()', 'id': 11768582, 'id_str': '11768582', 'indices': [18, 27]}], 'urls': [{'url': 'https://t.co/docGBqn8zC', 'expanded_url': 'https://twitter.com/alexjackhughes/status/1105409578110500865?s=19', 'display_url': 'twitter.com/alexjackhughes…', 'indices': [55, 78]}]}\n"
          ],
          "name": "stdout"
        }
      ]
    },
    {
      "metadata": {
        "id": "WU82hDibWeng",
        "colab_type": "code",
        "colab": {}
      },
      "cell_type": "code",
      "source": [
        "data['len']  = np.array([len(tweet.text) for tweet in tweets])\n",
        "data['ID']   = np.array([tweet.id for tweet in tweets])\n",
        "data['Date'] = np.array([tweet.created_at for tweet in tweets])\n",
        "data['Source'] = np.array([tweet.source for tweet in tweets])\n",
        "data['Likes']  = np.array([tweet.favorite_count for tweet in tweets])\n",
        "data['RTs']    = np.array([tweet.retweet_count for tweet in tweets])"
      ],
      "execution_count": 0,
      "outputs": []
    },
    {
      "metadata": {
        "id": "e1fviatSWlr_",
        "colab_type": "code",
        "colab": {
          "base_uri": "https://localhost:8080/",
          "height": 343
        },
        "outputId": "844e2683-3042-42a1-92c4-a06915ef0955"
      },
      "cell_type": "code",
      "source": [
        "display(data.head(10))"
      ],
      "execution_count": 10,
      "outputs": [
        {
          "output_type": "display_data",
          "data": {
            "text/html": [
              "<div>\n",
              "<style scoped>\n",
              "    .dataframe tbody tr th:only-of-type {\n",
              "        vertical-align: middle;\n",
              "    }\n",
              "\n",
              "    .dataframe tbody tr th {\n",
              "        vertical-align: top;\n",
              "    }\n",
              "\n",
              "    .dataframe thead th {\n",
              "        text-align: right;\n",
              "    }\n",
              "</style>\n",
              "<table border=\"1\" class=\"dataframe\">\n",
              "  <thead>\n",
              "    <tr style=\"text-align: right;\">\n",
              "      <th></th>\n",
              "      <th>Tweets</th>\n",
              "      <th>len</th>\n",
              "      <th>ID</th>\n",
              "      <th>Date</th>\n",
              "      <th>Source</th>\n",
              "      <th>Likes</th>\n",
              "      <th>RTs</th>\n",
              "    </tr>\n",
              "  </thead>\n",
              "  <tbody>\n",
              "    <tr>\n",
              "      <th>0</th>\n",
              "      <td>@mustefaJ @firasd @garrytan looks like it's th...</td>\n",
              "      <td>78</td>\n",
              "      <td>1105434573633015808</td>\n",
              "      <td>2019-03-12 11:45:14</td>\n",
              "      <td>Twitter for Android</td>\n",
              "      <td>2</td>\n",
              "      <td>0</td>\n",
              "    </tr>\n",
              "    <tr>\n",
              "      <th>1</th>\n",
              "      <td>RT @alexjackhughes: @icyphox @firasd @garrytan...</td>\n",
              "      <td>139</td>\n",
              "      <td>1105410462429020160</td>\n",
              "      <td>2019-03-12 10:09:26</td>\n",
              "      <td>Twitter for Android</td>\n",
              "      <td>0</td>\n",
              "      <td>1</td>\n",
              "    </tr>\n",
              "    <tr>\n",
              "      <th>2</th>\n",
              "      <td>@alexjackhughes @firasd @garrytan ah interesti...</td>\n",
              "      <td>109</td>\n",
              "      <td>1105409958869327872</td>\n",
              "      <td>2019-03-12 10:07:26</td>\n",
              "      <td>Twitter Web App</td>\n",
              "      <td>0</td>\n",
              "      <td>0</td>\n",
              "    </tr>\n",
              "    <tr>\n",
              "      <th>3</th>\n",
              "      <td>@alexjackhughes @firasd @garrytan i'm guessing...</td>\n",
              "      <td>76</td>\n",
              "      <td>1105407227261673472</td>\n",
              "      <td>2019-03-12 09:56:35</td>\n",
              "      <td>Twitter Web App</td>\n",
              "      <td>0</td>\n",
              "      <td>0</td>\n",
              "    </tr>\n",
              "    <tr>\n",
              "      <th>4</th>\n",
              "      <td>@firasd @garrytan this makes a ton of sense. H...</td>\n",
              "      <td>112</td>\n",
              "      <td>1105352498057900032</td>\n",
              "      <td>2019-03-12 06:19:06</td>\n",
              "      <td>Twitter for Android</td>\n",
              "      <td>6</td>\n",
              "      <td>1</td>\n",
              "    </tr>\n",
              "    <tr>\n",
              "      <th>5</th>\n",
              "      <td>RT @sophiebits: &amp;gt; aGkgdHdpd…\\n\\nme: I have ...</td>\n",
              "      <td>108</td>\n",
              "      <td>1105343449694269440</td>\n",
              "      <td>2019-03-12 05:43:09</td>\n",
              "      <td>Twitter for Android</td>\n",
              "      <td>0</td>\n",
              "      <td>276</td>\n",
              "    </tr>\n",
              "    <tr>\n",
              "      <th>6</th>\n",
              "      <td>RT @LiveOverflow: Still thinking smart contrac...</td>\n",
              "      <td>139</td>\n",
              "      <td>1105074614911135744</td>\n",
              "      <td>2019-03-11 11:54:54</td>\n",
              "      <td>Twitter for Android</td>\n",
              "      <td>0</td>\n",
              "      <td>12</td>\n",
              "    </tr>\n",
              "    <tr>\n",
              "      <th>7</th>\n",
              "      <td>RT @_ayoubfathi_: One liner to fetch all URLs ...</td>\n",
              "      <td>140</td>\n",
              "      <td>1104729353470922752</td>\n",
              "      <td>2019-03-10 13:02:57</td>\n",
              "      <td>Twitter for Android</td>\n",
              "      <td>0</td>\n",
              "      <td>133</td>\n",
              "    </tr>\n",
              "    <tr>\n",
              "      <th>8</th>\n",
              "      <td>@N3rdyP3pp3r @unicode i recall reading somewhe...</td>\n",
              "      <td>115</td>\n",
              "      <td>1104711676593463297</td>\n",
              "      <td>2019-03-10 11:52:42</td>\n",
              "      <td>Twitter for Android</td>\n",
              "      <td>0</td>\n",
              "      <td>0</td>\n",
              "    </tr>\n",
              "    <tr>\n",
              "      <th>9</th>\n",
              "      <td>RT @hopefulIe: There’s literally 5 movies on w...</td>\n",
              "      <td>91</td>\n",
              "      <td>1104343268056129537</td>\n",
              "      <td>2019-03-09 11:28:47</td>\n",
              "      <td>Twitter for Android</td>\n",
              "      <td>0</td>\n",
              "      <td>115436</td>\n",
              "    </tr>\n",
              "  </tbody>\n",
              "</table>\n",
              "</div>"
            ],
            "text/plain": [
              "                                              Tweets  len  \\\n",
              "0  @mustefaJ @firasd @garrytan looks like it's th...   78   \n",
              "1  RT @alexjackhughes: @icyphox @firasd @garrytan...  139   \n",
              "2  @alexjackhughes @firasd @garrytan ah interesti...  109   \n",
              "3  @alexjackhughes @firasd @garrytan i'm guessing...   76   \n",
              "4  @firasd @garrytan this makes a ton of sense. H...  112   \n",
              "5  RT @sophiebits: &gt; aGkgdHdpd…\\n\\nme: I have ...  108   \n",
              "6  RT @LiveOverflow: Still thinking smart contrac...  139   \n",
              "7  RT @_ayoubfathi_: One liner to fetch all URLs ...  140   \n",
              "8  @N3rdyP3pp3r @unicode i recall reading somewhe...  115   \n",
              "9  RT @hopefulIe: There’s literally 5 movies on w...   91   \n",
              "\n",
              "                    ID                Date               Source  Likes     RTs  \n",
              "0  1105434573633015808 2019-03-12 11:45:14  Twitter for Android      2       0  \n",
              "1  1105410462429020160 2019-03-12 10:09:26  Twitter for Android      0       1  \n",
              "2  1105409958869327872 2019-03-12 10:07:26      Twitter Web App      0       0  \n",
              "3  1105407227261673472 2019-03-12 09:56:35      Twitter Web App      0       0  \n",
              "4  1105352498057900032 2019-03-12 06:19:06  Twitter for Android      6       1  \n",
              "5  1105343449694269440 2019-03-12 05:43:09  Twitter for Android      0     276  \n",
              "6  1105074614911135744 2019-03-11 11:54:54  Twitter for Android      0      12  \n",
              "7  1104729353470922752 2019-03-10 13:02:57  Twitter for Android      0     133  \n",
              "8  1104711676593463297 2019-03-10 11:52:42  Twitter for Android      0       0  \n",
              "9  1104343268056129537 2019-03-09 11:28:47  Twitter for Android      0  115436  "
            ]
          },
          "metadata": {
            "tags": []
          }
        }
      ]
    },
    {
      "metadata": {
        "id": "c1JZ2TqgWns_",
        "colab_type": "code",
        "colab": {
          "base_uri": "https://localhost:8080/",
          "height": 34
        },
        "outputId": "40443213-86dc-456a-f2c0-46e5ca18494e"
      },
      "cell_type": "code",
      "source": [
        "mean = np.mean(data['len'])\n",
        "\n",
        "print(\"The lenght's average in tweets: {}\".format(mean))"
      ],
      "execution_count": 11,
      "outputs": [
        {
          "output_type": "stream",
          "text": [
            "The lenght's average in tweets: 80.95\n"
          ],
          "name": "stdout"
        }
      ]
    },
    {
      "metadata": {
        "id": "JxSjVbEeWufn",
        "colab_type": "code",
        "colab": {
          "base_uri": "https://localhost:8080/",
          "height": 193
        },
        "outputId": "df2f6dab-e2e3-4bd8-d531-1fe7df80f8c8"
      },
      "cell_type": "code",
      "source": [
        "fav_max = np.max(data['Likes'])\n",
        "rt_max  = np.max(data['RTs'])\n",
        "\n",
        "fav = data[data.Likes == fav_max].index[0]\n",
        "rt  = data[data.RTs == rt_max].index[0]\n",
        "\n",
        "# Max FAVs:\n",
        "print(\"The tweet with more likes is: \\n{}\".format(data['Tweets'][fav]))\n",
        "print(\"Number of likes: {}\".format(fav_max))\n",
        "print(\"{} characters.\\n\".format(data['len'][fav]))\n",
        "\n",
        "# Max RTs:\n",
        "print(\"The tweet with more retweets is: \\n{}\".format(data['Tweets'][rt]))\n",
        "print(\"Number of retweets: {}\".format(rt_max))\n",
        "print(\"{} characters.\\n\".format(data['len'][rt]))"
      ],
      "execution_count": 12,
      "outputs": [
        {
          "output_type": "stream",
          "text": [
            "The tweet with more likes is: \n",
            "wooot we met @Yassineaboukir https://t.co/yRopGj4afW\n",
            "Number of likes: 11\n",
            "52 characters.\n",
            "\n",
            "The tweet with more retweets is: \n",
            "RT @hopefulIe: There’s literally 5 movies on why this is a bad idea https://t.co/7NgYHA8RWD\n",
            "Number of retweets: 115436\n",
            "91 characters.\n",
            "\n"
          ],
          "name": "stdout"
        }
      ]
    },
    {
      "metadata": {
        "id": "HzBZQ8GyWw6S",
        "colab_type": "code",
        "colab": {}
      },
      "cell_type": "code",
      "source": [
        "tlen = pd.Series(data=data['len'].values, index=data['Date'])\n",
        "tfav = pd.Series(data=data['Likes'].values, index=data['Date'])\n",
        "tret = pd.Series(data=data['RTs'].values, index=data['Date'])"
      ],
      "execution_count": 0,
      "outputs": []
    },
    {
      "metadata": {
        "id": "BPz2IFeiW1Eq",
        "colab_type": "code",
        "colab": {
          "base_uri": "https://localhost:8080/",
          "height": 282
        },
        "outputId": "b16d6ced-8fd4-48c9-d978-e570e251ae91"
      },
      "cell_type": "code",
      "source": [
        "tlen.plot(figsize=(16,4), color='r');"
      ],
      "execution_count": 14,
      "outputs": [
        {
          "output_type": "display_data",
          "data": {
            "image/png": "[encoded data removed]",
            "text/plain": [
              "<Figure size 1152x288 with 1 Axes>"
            ]
          },
          "metadata": {
            "tags": []
          }
        }
      ]
    },
    {
      "metadata": {
        "id": "IYewbeYPW3Ll",
        "colab_type": "code",
        "colab": {
          "base_uri": "https://localhost:8080/",
          "height": 284
        },
        "outputId": "6091fcfb-3d34-442e-9e69-373d2e411c1c"
      },
      "cell_type": "code",
      "source": [
        "tfav.plot(figsize=(16,4), label=\"Likes\", legend=True)\n",
        "tret.plot(figsize=(16,4), label=\"Retweets\", legend=True);"
      ],
      "execution_count": 15,
      "outputs": [
        {
          "output_type": "display_data",
          "data": {
            "image/png": "[encoded data removed]",
            "text/plain": [
              "<Figure size 1152x288 with 1 Axes>"
            ]
          },
          "metadata": {
            "tags": []
          }
        }
      ]
    },
    {
      "metadata": {
        "id": "GuSL0_JRW6ZK",
        "colab_type": "code",
        "colab": {
          "base_uri": "https://localhost:8080/",
          "height": 70
        },
        "outputId": "026d08df-d884-4198-d305-43db1e027fe7"
      },
      "cell_type": "code",
      "source": [
        "sources = []\n",
        "for source in data['Source']:\n",
        "    if source not in sources:\n",
        "        sources.append(source)\n",
        "\n",
        "# We print sources list:\n",
        "print(\"Creation of content sources:\")\n",
        "for source in sources:\n",
        "    print(\"* {}\".format(source))"
      ],
      "execution_count": 16,
      "outputs": [
        {
          "output_type": "stream",
          "text": [
            "Creation of content sources:\n",
            "* Twitter for Android\n",
            "* Twitter Web App\n"
          ],
          "name": "stdout"
        }
      ]
    },
    {
      "metadata": {
        "id": "B9-mLgfDW-_z",
        "colab_type": "code",
        "colab": {
          "base_uri": "https://localhost:8080/",
          "height": 357
        },
        "outputId": "73f1c553-542a-4ec3-b3a5-ef5b5304cf20"
      },
      "cell_type": "code",
      "source": [
        "percent = np.zeros(len(sources))\n",
        "\n",
        "for source in data['Source']:\n",
        "    for index in range(len(sources)):\n",
        "        if source == sources[index]:\n",
        "            percent[index] += 1\n",
        "            pass\n",
        "\n",
        "percent /= 100\n",
        "\n",
        "# Pie chart:\n",
        "pie_chart = pd.Series(percent, index=sources, name='Sources')\n",
        "pie_chart.plot.pie(fontsize=11, autopct='%.2f', figsize=(6, 6));"
      ],
      "execution_count": 17,
      "outputs": [
        {
          "output_type": "display_data",
          "data": {
            "image/png": "[encoded data removed]",
            "text/plain": [
              "<Figure size 432x432 with 1 Axes>"
            ]
          },
          "metadata": {
            "tags": []
          }
        }
      ]
    },
    {
      "metadata": {
        "id": "hlEXdoLRXCBr",
        "colab_type": "code",
        "colab": {}
      },
      "cell_type": "code",
      "source": [
        "from textblob import TextBlob\n",
        "import re\n",
        "\n",
        "def clean_tweet(tweet):\n",
        "    '''\n",
        "    Utility function to clean the text in a tweet by removing \n",
        "    links and special characters using regex.\n",
        "    '''\n",
        "    return ' '.join(re.sub(\"(@[A-Za-z0-9]+)|([^0-9A-Za-z \\t])|(\\w+:\\/\\/\\S+)\", \" \", tweet).split())\n",
        "\n",
        "def analize_sentiment(tweet):\n",
        "    '''\n",
        "    Utility function to classify the polarity of a tweet\n",
        "    using textblob.\n",
        "    '''\n",
        "    analysis = TextBlob(clean_tweet(tweet))\n",
        "    if analysis.sentiment.polarity > 0:\n",
        "        return 1\n",
        "    elif analysis.sentiment.polarity == 0:\n",
        "        return 0\n",
        "    else:\n",
        "        return -1"
      ],
      "execution_count": 0,
      "outputs": []
    },
    {
      "metadata": {
        "id": "UewbJiSiXKUT",
        "colab_type": "code",
        "colab": {
          "base_uri": "https://localhost:8080/",
          "height": 343
        },
        "outputId": "40a842a2-7718-4b9b-e49b-b3c213ffc527"
      },
      "cell_type": "code",
      "source": [
        "data['SA'] = np.array([ analize_sentiment(tweet) for tweet in data['Tweets'] ])\n",
        "\n",
        "# We display the updated dataframe with the new column:\n",
        "display(data.head(10))"
      ],
      "execution_count": 19,
      "outputs": [
        {
          "output_type": "display_data",
          "data": {
            "text/html": [
              "<div>\n",
              "<style scoped>\n",
              "    .dataframe tbody tr th:only-of-type {\n",
              "        vertical-align: middle;\n",
              "    }\n",
              "\n",
              "    .dataframe tbody tr th {\n",
              "        vertical-align: top;\n",
              "    }\n",
              "\n",
              "    .dataframe thead th {\n",
              "        text-align: right;\n",
              "    }\n",
              "</style>\n",
              "<table border=\"1\" class=\"dataframe\">\n",
              "  <thead>\n",
              "    <tr style=\"text-align: right;\">\n",
              "      <th></th>\n",
              "      <th>Tweets</th>\n",
              "      <th>len</th>\n",
              "      <th>ID</th>\n",
              "      <th>Date</th>\n",
              "      <th>Source</th>\n",
              "      <th>Likes</th>\n",
              "      <th>RTs</th>\n",
              "      <th>SA</th>\n",
              "    </tr>\n",
              "  </thead>\n",
              "  <tbody>\n",
              "    <tr>\n",
              "      <th>0</th>\n",
              "      <td>@mustefaJ @firasd @garrytan looks like it's th...</td>\n",
              "      <td>78</td>\n",
              "      <td>1105434573633015808</td>\n",
              "      <td>2019-03-12 11:45:14</td>\n",
              "      <td>Twitter for Android</td>\n",
              "      <td>2</td>\n",
              "      <td>0</td>\n",
              "      <td>0</td>\n",
              "    </tr>\n",
              "    <tr>\n",
              "      <th>1</th>\n",
              "      <td>RT @alexjackhughes: @icyphox @firasd @garrytan...</td>\n",
              "      <td>139</td>\n",
              "      <td>1105410462429020160</td>\n",
              "      <td>2019-03-12 10:09:26</td>\n",
              "      <td>Twitter for Android</td>\n",
              "      <td>0</td>\n",
              "      <td>1</td>\n",
              "      <td>0</td>\n",
              "    </tr>\n",
              "    <tr>\n",
              "      <th>2</th>\n",
              "      <td>@alexjackhughes @firasd @garrytan ah interesti...</td>\n",
              "      <td>109</td>\n",
              "      <td>1105409958869327872</td>\n",
              "      <td>2019-03-12 10:07:26</td>\n",
              "      <td>Twitter Web App</td>\n",
              "      <td>0</td>\n",
              "      <td>0</td>\n",
              "      <td>1</td>\n",
              "    </tr>\n",
              "    <tr>\n",
              "      <th>3</th>\n",
              "      <td>@alexjackhughes @firasd @garrytan i'm guessing...</td>\n",
              "      <td>76</td>\n",
              "      <td>1105407227261673472</td>\n",
              "      <td>2019-03-12 09:56:35</td>\n",
              "      <td>Twitter Web App</td>\n",
              "      <td>0</td>\n",
              "      <td>0</td>\n",
              "      <td>0</td>\n",
              "    </tr>\n",
              "    <tr>\n",
              "      <th>4</th>\n",
              "      <td>@firasd @garrytan this makes a ton of sense. H...</td>\n",
              "      <td>112</td>\n",
              "      <td>1105352498057900032</td>\n",
              "      <td>2019-03-12 06:19:06</td>\n",
              "      <td>Twitter for Android</td>\n",
              "      <td>6</td>\n",
              "      <td>1</td>\n",
              "      <td>0</td>\n",
              "    </tr>\n",
              "    <tr>\n",
              "      <th>5</th>\n",
              "      <td>RT @sophiebits: &amp;gt; aGkgdHdpd…\\n\\nme: I have ...</td>\n",
              "      <td>108</td>\n",
              "      <td>1105343449694269440</td>\n",
              "      <td>2019-03-12 05:43:09</td>\n",
              "      <td>Twitter for Android</td>\n",
              "      <td>0</td>\n",
              "      <td>276</td>\n",
              "      <td>-1</td>\n",
              "    </tr>\n",
              "    <tr>\n",
              "      <th>6</th>\n",
              "      <td>RT @LiveOverflow: Still thinking smart contrac...</td>\n",
              "      <td>139</td>\n",
              "      <td>1105074614911135744</td>\n",
              "      <td>2019-03-11 11:54:54</td>\n",
              "      <td>Twitter for Android</td>\n",
              "      <td>0</td>\n",
              "      <td>12</td>\n",
              "      <td>1</td>\n",
              "    </tr>\n",
              "    <tr>\n",
              "      <th>7</th>\n",
              "      <td>RT @_ayoubfathi_: One liner to fetch all URLs ...</td>\n",
              "      <td>140</td>\n",
              "      <td>1104729353470922752</td>\n",
              "      <td>2019-03-10 13:02:57</td>\n",
              "      <td>Twitter for Android</td>\n",
              "      <td>0</td>\n",
              "      <td>133</td>\n",
              "      <td>0</td>\n",
              "    </tr>\n",
              "    <tr>\n",
              "      <th>8</th>\n",
              "      <td>@N3rdyP3pp3r @unicode i recall reading somewhe...</td>\n",
              "      <td>115</td>\n",
              "      <td>1104711676593463297</td>\n",
              "      <td>2019-03-10 11:52:42</td>\n",
              "      <td>Twitter for Android</td>\n",
              "      <td>0</td>\n",
              "      <td>0</td>\n",
              "      <td>1</td>\n",
              "    </tr>\n",
              "    <tr>\n",
              "      <th>9</th>\n",
              "      <td>RT @hopefulIe: There’s literally 5 movies on w...</td>\n",
              "      <td>91</td>\n",
              "      <td>1104343268056129537</td>\n",
              "      <td>2019-03-09 11:28:47</td>\n",
              "      <td>Twitter for Android</td>\n",
              "      <td>0</td>\n",
              "      <td>115436</td>\n",
              "      <td>-1</td>\n",
              "    </tr>\n",
              "  </tbody>\n",
              "</table>\n",
              "</div>"
            ],
            "text/plain": [
              "                                              Tweets  len  \\\n",
              "0  @mustefaJ @firasd @garrytan looks like it's th...   78   \n",
              "1  RT @alexjackhughes: @icyphox @firasd @garrytan...  139   \n",
              "2  @alexjackhughes @firasd @garrytan ah interesti...  109   \n",
              "3  @alexjackhughes @firasd @garrytan i'm guessing...   76   \n",
              "4  @firasd @garrytan this makes a ton of sense. H...  112   \n",
              "5  RT @sophiebits: &gt; aGkgdHdpd…\\n\\nme: I have ...  108   \n",
              "6  RT @LiveOverflow: Still thinking smart contrac...  139   \n",
              "7  RT @_ayoubfathi_: One liner to fetch all URLs ...  140   \n",
              "8  @N3rdyP3pp3r @unicode i recall reading somewhe...  115   \n",
              "9  RT @hopefulIe: There’s literally 5 movies on w...   91   \n",
              "\n",
              "                    ID                Date               Source  Likes  \\\n",
              "0  1105434573633015808 2019-03-12 11:45:14  Twitter for Android      2   \n",
              "1  1105410462429020160 2019-03-12 10:09:26  Twitter for Android      0   \n",
              "2  1105409958869327872 2019-03-12 10:07:26      Twitter Web App      0   \n",
              "3  1105407227261673472 2019-03-12 09:56:35      Twitter Web App      0   \n",
              "4  1105352498057900032 2019-03-12 06:19:06  Twitter for Android      6   \n",
              "5  1105343449694269440 2019-03-12 05:43:09  Twitter for Android      0   \n",
              "6  1105074614911135744 2019-03-11 11:54:54  Twitter for Android      0   \n",
              "7  1104729353470922752 2019-03-10 13:02:57  Twitter for Android      0   \n",
              "8  1104711676593463297 2019-03-10 11:52:42  Twitter for Android      0   \n",
              "9  1104343268056129537 2019-03-09 11:28:47  Twitter for Android      0   \n",
              "\n",
              "      RTs  SA  \n",
              "0       0   0  \n",
              "1       1   0  \n",
              "2       0   1  \n",
              "3       0   0  \n",
              "4       1   0  \n",
              "5     276  -1  \n",
              "6      12   1  \n",
              "7     133   0  \n",
              "8       0   1  \n",
              "9  115436  -1  "
            ]
          },
          "metadata": {
            "tags": []
          }
        }
      ]
    },
    {
      "metadata": {
        "id": "6VOK5E-pXPUs",
        "colab_type": "code",
        "colab": {}
      },
      "cell_type": "code",
      "source": [
        "p_tweets = [ tweet for index, tweet in enumerate(data['Tweets']) if data['SA'][index] > 0]\n",
        "n_tweets = [ tweet for index, tweet in enumerate(data['Tweets']) if data['SA'][index] == 0]\n",
        "ng_tweets = [ tweet for index, tweet in enumerate(data['Tweets']) if data['SA'][index] < 0]"
      ],
      "execution_count": 0,
      "outputs": []
    },
    {
      "metadata": {
        "id": "s9WobPjWXS2s",
        "colab_type": "code",
        "colab": {
          "base_uri": "https://localhost:8080/",
          "height": 70
        },
        "outputId": "9db84944-0dcc-4f27-bc6d-f133ff3cb5fb"
      },
      "cell_type": "code",
      "source": [
        "print(\"Percentage of positive tweets: {}%\".format(len(p_tweets)*100/len(data['Tweets'])))\n",
        "print(\"Percentage of neutral tweets: {}%\".format(len(n_tweets)*100/len(data['Tweets'])))\n",
        "print(\"Percentage of negative tweets: {}%\".format(len(ng_tweets)*100/len(data['Tweets'])))"
      ],
      "execution_count": 27,
      "outputs": [
        {
          "output_type": "stream",
          "text": [
            "Percentage of positive tweets: 28.0%\n",
            "Percentage of neutral tweets: 60.0%\n",
            "Percentage of negative tweets: 12.0%\n"
          ],
          "name": "stdout"
        }
      ]
    },
    {
      "metadata": {
        "id": "ivXMfLC2XVe2",
        "colab_type": "code",
        "colab": {}
      },
      "cell_type": "code",
      "source": [
        ""
      ],
      "execution_count": 0,
      "outputs": []
    }
  ]
}